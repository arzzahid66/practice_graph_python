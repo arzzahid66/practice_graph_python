{
 "cells": [
  {
   "cell_type": "code",
   "execution_count": 1,
   "metadata": {},
   "outputs": [],
   "source": [
    "import pandas as pd\n",
    "import seaborn as sns\n",
    "import matplotlib.pylab as plt\n",
    "import numpy as np\n"
   ]
  },
  {
   "cell_type": "code",
   "execution_count": 2,
   "metadata": {},
   "outputs": [
    {
     "data": {
      "text/html": [
       "<div>\n",
       "<style scoped>\n",
       "    .dataframe tbody tr th:only-of-type {\n",
       "        vertical-align: middle;\n",
       "    }\n",
       "\n",
       "    .dataframe tbody tr th {\n",
       "        vertical-align: top;\n",
       "    }\n",
       "\n",
       "    .dataframe thead th {\n",
       "        text-align: right;\n",
       "    }\n",
       "</style>\n",
       "<table border=\"1\" class=\"dataframe\">\n",
       "  <thead>\n",
       "    <tr style=\"text-align: right;\">\n",
       "      <th></th>\n",
       "      <th>Date</th>\n",
       "      <th>10.0</th>\n",
       "      <th>11.0</th>\n",
       "      <th>9.0 Pie</th>\n",
       "      <th>8.1 Oreo</th>\n",
       "      <th>6.0 Marshmallow</th>\n",
       "      <th>8.0 Oreo</th>\n",
       "      <th>5.1 Lollipop</th>\n",
       "      <th>7.1 Nougat</th>\n",
       "      <th>7.0 Nougat</th>\n",
       "      <th>4.4 KitKat</th>\n",
       "      <th>12.0</th>\n",
       "      <th>5.0 Lollipop</th>\n",
       "      <th>4.2 Jelly Bean</th>\n",
       "      <th>4.1 Jelly Bean</th>\n",
       "      <th>4.3 Jelly Bean</th>\n",
       "      <th>6.1 Marshmallow</th>\n",
       "      <th>Other</th>\n",
       "    </tr>\n",
       "  </thead>\n",
       "  <tbody>\n",
       "    <tr>\n",
       "      <th>0</th>\n",
       "      <td>2021-05</td>\n",
       "      <td>31.96</td>\n",
       "      <td>8.59</td>\n",
       "      <td>17.82</td>\n",
       "      <td>11.38</td>\n",
       "      <td>8.16</td>\n",
       "      <td>5.71</td>\n",
       "      <td>5.32</td>\n",
       "      <td>3.41</td>\n",
       "      <td>3.51</td>\n",
       "      <td>2.66</td>\n",
       "      <td>0.0</td>\n",
       "      <td>1.20</td>\n",
       "      <td>0.11</td>\n",
       "      <td>0.07</td>\n",
       "      <td>0.06</td>\n",
       "      <td>0.04</td>\n",
       "      <td>0.01</td>\n",
       "    </tr>\n",
       "    <tr>\n",
       "      <th>1</th>\n",
       "      <td>2021-06</td>\n",
       "      <td>30.63</td>\n",
       "      <td>10.30</td>\n",
       "      <td>17.22</td>\n",
       "      <td>11.49</td>\n",
       "      <td>8.29</td>\n",
       "      <td>5.47</td>\n",
       "      <td>5.62</td>\n",
       "      <td>3.37</td>\n",
       "      <td>3.49</td>\n",
       "      <td>2.64</td>\n",
       "      <td>0.0</td>\n",
       "      <td>1.19</td>\n",
       "      <td>0.12</td>\n",
       "      <td>0.06</td>\n",
       "      <td>0.06</td>\n",
       "      <td>0.04</td>\n",
       "      <td>0.01</td>\n",
       "    </tr>\n",
       "    <tr>\n",
       "      <th>2</th>\n",
       "      <td>2021-07</td>\n",
       "      <td>30.65</td>\n",
       "      <td>13.73</td>\n",
       "      <td>16.73</td>\n",
       "      <td>11.20</td>\n",
       "      <td>7.59</td>\n",
       "      <td>5.24</td>\n",
       "      <td>5.05</td>\n",
       "      <td>3.22</td>\n",
       "      <td>3.25</td>\n",
       "      <td>2.16</td>\n",
       "      <td>0.0</td>\n",
       "      <td>0.97</td>\n",
       "      <td>0.08</td>\n",
       "      <td>0.04</td>\n",
       "      <td>0.03</td>\n",
       "      <td>0.03</td>\n",
       "      <td>0.01</td>\n",
       "    </tr>\n",
       "    <tr>\n",
       "      <th>3</th>\n",
       "      <td>2021-08</td>\n",
       "      <td>30.56</td>\n",
       "      <td>18.36</td>\n",
       "      <td>15.95</td>\n",
       "      <td>10.22</td>\n",
       "      <td>6.69</td>\n",
       "      <td>5.05</td>\n",
       "      <td>4.34</td>\n",
       "      <td>2.90</td>\n",
       "      <td>3.00</td>\n",
       "      <td>1.90</td>\n",
       "      <td>0.0</td>\n",
       "      <td>0.85</td>\n",
       "      <td>0.07</td>\n",
       "      <td>0.03</td>\n",
       "      <td>0.03</td>\n",
       "      <td>0.03</td>\n",
       "      <td>0.01</td>\n",
       "    </tr>\n",
       "    <tr>\n",
       "      <th>4</th>\n",
       "      <td>2021-09</td>\n",
       "      <td>29.40</td>\n",
       "      <td>21.29</td>\n",
       "      <td>15.66</td>\n",
       "      <td>9.85</td>\n",
       "      <td>6.37</td>\n",
       "      <td>4.94</td>\n",
       "      <td>4.02</td>\n",
       "      <td>2.78</td>\n",
       "      <td>2.82</td>\n",
       "      <td>1.88</td>\n",
       "      <td>0.0</td>\n",
       "      <td>0.81</td>\n",
       "      <td>0.08</td>\n",
       "      <td>0.03</td>\n",
       "      <td>0.03</td>\n",
       "      <td>0.02</td>\n",
       "      <td>0.01</td>\n",
       "    </tr>\n",
       "  </tbody>\n",
       "</table>\n",
       "</div>"
      ],
      "text/plain": [
       "      Date   10.0   11.0  9.0 Pie  8.1 Oreo  6.0 Marshmallow  8.0 Oreo  \\\n",
       "0  2021-05  31.96   8.59    17.82     11.38             8.16      5.71   \n",
       "1  2021-06  30.63  10.30    17.22     11.49             8.29      5.47   \n",
       "2  2021-07  30.65  13.73    16.73     11.20             7.59      5.24   \n",
       "3  2021-08  30.56  18.36    15.95     10.22             6.69      5.05   \n",
       "4  2021-09  29.40  21.29    15.66      9.85             6.37      4.94   \n",
       "\n",
       "   5.1 Lollipop  7.1 Nougat  7.0 Nougat  4.4 KitKat  12.0  5.0 Lollipop  \\\n",
       "0          5.32        3.41        3.51        2.66   0.0          1.20   \n",
       "1          5.62        3.37        3.49        2.64   0.0          1.19   \n",
       "2          5.05        3.22        3.25        2.16   0.0          0.97   \n",
       "3          4.34        2.90        3.00        1.90   0.0          0.85   \n",
       "4          4.02        2.78        2.82        1.88   0.0          0.81   \n",
       "\n",
       "   4.2 Jelly Bean  4.1 Jelly Bean  4.3 Jelly Bean  6.1 Marshmallow  Other  \n",
       "0            0.11            0.07            0.06             0.04   0.01  \n",
       "1            0.12            0.06            0.06             0.04   0.01  \n",
       "2            0.08            0.04            0.03             0.03   0.01  \n",
       "3            0.07            0.03            0.03             0.03   0.01  \n",
       "4            0.08            0.03            0.03             0.02   0.01  "
      ]
     },
     "execution_count": 2,
     "metadata": {},
     "output_type": "execute_result"
    }
   ],
   "source": [
    "a_v=pd.read_csv(\"E:\\\\as  data\\\\arz python\\\\data\\\\new data\\\\android_version-PK-monthly-202105-202205.csv\")\n",
    "\n",
    "a_v.head()"
   ]
  },
  {
   "cell_type": "code",
   "execution_count": 3,
   "metadata": {},
   "outputs": [
    {
     "data": {
      "application/vnd.plotly.v1+json": {
       "config": {
        "plotlyServerURL": "https://plot.ly"
       },
       "data": [
        {
         "name": "11",
         "type": "bar",
         "x": [
          "11.0",
          "10.0",
          "9.0",
          "8.1_OREO",
          "7.0_Nougat",
          "6.1_Marshmallow",
          "5.0_Lollipop",
          "4.2_Jelly_Bean"
         ],
         "y": [
          8.59,
          10.3,
          13.73,
          18.36,
          1.29,
          24.28,
          25.81,
          26.66,
          32.15,
          33.87,
          33.03,
          33.76,
          32.97
         ]
        },
        {
         "name": "10",
         "type": "bar",
         "x": [
          "11.0",
          "10.0",
          "9.0",
          "8.1_OREO",
          "7.0_Nougat",
          "6.1_Marshmallow",
          "5.0_Lollipop",
          "4.2_Jelly_Bean"
         ],
         "y": [
          31.96,
          30.63,
          30.65,
          30.56,
          29.4,
          28.82,
          28.75,
          28.64,
          26.23,
          25.16,
          24.6,
          23.72,
          22.63
         ]
        },
        {
         "name": "7",
         "type": "bar",
         "x": [
          "11.0",
          "10.0",
          "9.0",
          "8.1_OREO",
          "7.0_Nougat",
          "6.1_Marshmallow",
          "5.0_Lollipop",
          "4.2_Jelly_Bean"
         ],
         "y": [
          3.41,
          3.37,
          3.22,
          2.9,
          2.78,
          2.68,
          2.59,
          2.58,
          2.48,
          2.35,
          2.41,
          2.26,
          2.25
         ]
        }
       ],
       "layout": {
        "barmode": "stack",
        "template": {
         "data": {
          "bar": [
           {
            "error_x": {
             "color": "#2a3f5f"
            },
            "error_y": {
             "color": "#2a3f5f"
            },
            "marker": {
             "line": {
              "color": "#E5ECF6",
              "width": 0.5
             },
             "pattern": {
              "fillmode": "overlay",
              "size": 10,
              "solidity": 0.2
             }
            },
            "type": "bar"
           }
          ],
          "barpolar": [
           {
            "marker": {
             "line": {
              "color": "#E5ECF6",
              "width": 0.5
             },
             "pattern": {
              "fillmode": "overlay",
              "size": 10,
              "solidity": 0.2
             }
            },
            "type": "barpolar"
           }
          ],
          "carpet": [
           {
            "aaxis": {
             "endlinecolor": "#2a3f5f",
             "gridcolor": "white",
             "linecolor": "white",
             "minorgridcolor": "white",
             "startlinecolor": "#2a3f5f"
            },
            "baxis": {
             "endlinecolor": "#2a3f5f",
             "gridcolor": "white",
             "linecolor": "white",
             "minorgridcolor": "white",
             "startlinecolor": "#2a3f5f"
            },
            "type": "carpet"
           }
          ],
          "choropleth": [
           {
            "colorbar": {
             "outlinewidth": 0,
             "ticks": ""
            },
            "type": "choropleth"
           }
          ],
          "contour": [
           {
            "colorbar": {
             "outlinewidth": 0,
             "ticks": ""
            },
            "colorscale": [
             [
              0,
              "#0d0887"
             ],
             [
              0.1111111111111111,
              "#46039f"
             ],
             [
              0.2222222222222222,
              "#7201a8"
             ],
             [
              0.3333333333333333,
              "#9c179e"
             ],
             [
              0.4444444444444444,
              "#bd3786"
             ],
             [
              0.5555555555555556,
              "#d8576b"
             ],
             [
              0.6666666666666666,
              "#ed7953"
             ],
             [
              0.7777777777777778,
              "#fb9f3a"
             ],
             [
              0.8888888888888888,
              "#fdca26"
             ],
             [
              1,
              "#f0f921"
             ]
            ],
            "type": "contour"
           }
          ],
          "contourcarpet": [
           {
            "colorbar": {
             "outlinewidth": 0,
             "ticks": ""
            },
            "type": "contourcarpet"
           }
          ],
          "heatmap": [
           {
            "colorbar": {
             "outlinewidth": 0,
             "ticks": ""
            },
            "colorscale": [
             [
              0,
              "#0d0887"
             ],
             [
              0.1111111111111111,
              "#46039f"
             ],
             [
              0.2222222222222222,
              "#7201a8"
             ],
             [
              0.3333333333333333,
              "#9c179e"
             ],
             [
              0.4444444444444444,
              "#bd3786"
             ],
             [
              0.5555555555555556,
              "#d8576b"
             ],
             [
              0.6666666666666666,
              "#ed7953"
             ],
             [
              0.7777777777777778,
              "#fb9f3a"
             ],
             [
              0.8888888888888888,
              "#fdca26"
             ],
             [
              1,
              "#f0f921"
             ]
            ],
            "type": "heatmap"
           }
          ],
          "heatmapgl": [
           {
            "colorbar": {
             "outlinewidth": 0,
             "ticks": ""
            },
            "colorscale": [
             [
              0,
              "#0d0887"
             ],
             [
              0.1111111111111111,
              "#46039f"
             ],
             [
              0.2222222222222222,
              "#7201a8"
             ],
             [
              0.3333333333333333,
              "#9c179e"
             ],
             [
              0.4444444444444444,
              "#bd3786"
             ],
             [
              0.5555555555555556,
              "#d8576b"
             ],
             [
              0.6666666666666666,
              "#ed7953"
             ],
             [
              0.7777777777777778,
              "#fb9f3a"
             ],
             [
              0.8888888888888888,
              "#fdca26"
             ],
             [
              1,
              "#f0f921"
             ]
            ],
            "type": "heatmapgl"
           }
          ],
          "histogram": [
           {
            "marker": {
             "pattern": {
              "fillmode": "overlay",
              "size": 10,
              "solidity": 0.2
             }
            },
            "type": "histogram"
           }
          ],
          "histogram2d": [
           {
            "colorbar": {
             "outlinewidth": 0,
             "ticks": ""
            },
            "colorscale": [
             [
              0,
              "#0d0887"
             ],
             [
              0.1111111111111111,
              "#46039f"
             ],
             [
              0.2222222222222222,
              "#7201a8"
             ],
             [
              0.3333333333333333,
              "#9c179e"
             ],
             [
              0.4444444444444444,
              "#bd3786"
             ],
             [
              0.5555555555555556,
              "#d8576b"
             ],
             [
              0.6666666666666666,
              "#ed7953"
             ],
             [
              0.7777777777777778,
              "#fb9f3a"
             ],
             [
              0.8888888888888888,
              "#fdca26"
             ],
             [
              1,
              "#f0f921"
             ]
            ],
            "type": "histogram2d"
           }
          ],
          "histogram2dcontour": [
           {
            "colorbar": {
             "outlinewidth": 0,
             "ticks": ""
            },
            "colorscale": [
             [
              0,
              "#0d0887"
             ],
             [
              0.1111111111111111,
              "#46039f"
             ],
             [
              0.2222222222222222,
              "#7201a8"
             ],
             [
              0.3333333333333333,
              "#9c179e"
             ],
             [
              0.4444444444444444,
              "#bd3786"
             ],
             [
              0.5555555555555556,
              "#d8576b"
             ],
             [
              0.6666666666666666,
              "#ed7953"
             ],
             [
              0.7777777777777778,
              "#fb9f3a"
             ],
             [
              0.8888888888888888,
              "#fdca26"
             ],
             [
              1,
              "#f0f921"
             ]
            ],
            "type": "histogram2dcontour"
           }
          ],
          "mesh3d": [
           {
            "colorbar": {
             "outlinewidth": 0,
             "ticks": ""
            },
            "type": "mesh3d"
           }
          ],
          "parcoords": [
           {
            "line": {
             "colorbar": {
              "outlinewidth": 0,
              "ticks": ""
             }
            },
            "type": "parcoords"
           }
          ],
          "pie": [
           {
            "automargin": true,
            "type": "pie"
           }
          ],
          "scatter": [
           {
            "fillpattern": {
             "fillmode": "overlay",
             "size": 10,
             "solidity": 0.2
            },
            "type": "scatter"
           }
          ],
          "scatter3d": [
           {
            "line": {
             "colorbar": {
              "outlinewidth": 0,
              "ticks": ""
             }
            },
            "marker": {
             "colorbar": {
              "outlinewidth": 0,
              "ticks": ""
             }
            },
            "type": "scatter3d"
           }
          ],
          "scattercarpet": [
           {
            "marker": {
             "colorbar": {
              "outlinewidth": 0,
              "ticks": ""
             }
            },
            "type": "scattercarpet"
           }
          ],
          "scattergeo": [
           {
            "marker": {
             "colorbar": {
              "outlinewidth": 0,
              "ticks": ""
             }
            },
            "type": "scattergeo"
           }
          ],
          "scattergl": [
           {
            "marker": {
             "colorbar": {
              "outlinewidth": 0,
              "ticks": ""
             }
            },
            "type": "scattergl"
           }
          ],
          "scattermapbox": [
           {
            "marker": {
             "colorbar": {
              "outlinewidth": 0,
              "ticks": ""
             }
            },
            "type": "scattermapbox"
           }
          ],
          "scatterpolar": [
           {
            "marker": {
             "colorbar": {
              "outlinewidth": 0,
              "ticks": ""
             }
            },
            "type": "scatterpolar"
           }
          ],
          "scatterpolargl": [
           {
            "marker": {
             "colorbar": {
              "outlinewidth": 0,
              "ticks": ""
             }
            },
            "type": "scatterpolargl"
           }
          ],
          "scatterternary": [
           {
            "marker": {
             "colorbar": {
              "outlinewidth": 0,
              "ticks": ""
             }
            },
            "type": "scatterternary"
           }
          ],
          "surface": [
           {
            "colorbar": {
             "outlinewidth": 0,
             "ticks": ""
            },
            "colorscale": [
             [
              0,
              "#0d0887"
             ],
             [
              0.1111111111111111,
              "#46039f"
             ],
             [
              0.2222222222222222,
              "#7201a8"
             ],
             [
              0.3333333333333333,
              "#9c179e"
             ],
             [
              0.4444444444444444,
              "#bd3786"
             ],
             [
              0.5555555555555556,
              "#d8576b"
             ],
             [
              0.6666666666666666,
              "#ed7953"
             ],
             [
              0.7777777777777778,
              "#fb9f3a"
             ],
             [
              0.8888888888888888,
              "#fdca26"
             ],
             [
              1,
              "#f0f921"
             ]
            ],
            "type": "surface"
           }
          ],
          "table": [
           {
            "cells": {
             "fill": {
              "color": "#EBF0F8"
             },
             "line": {
              "color": "white"
             }
            },
            "header": {
             "fill": {
              "color": "#C8D4E3"
             },
             "line": {
              "color": "white"
             }
            },
            "type": "table"
           }
          ]
         },
         "layout": {
          "annotationdefaults": {
           "arrowcolor": "#2a3f5f",
           "arrowhead": 0,
           "arrowwidth": 1
          },
          "autotypenumbers": "strict",
          "coloraxis": {
           "colorbar": {
            "outlinewidth": 0,
            "ticks": ""
           }
          },
          "colorscale": {
           "diverging": [
            [
             0,
             "#8e0152"
            ],
            [
             0.1,
             "#c51b7d"
            ],
            [
             0.2,
             "#de77ae"
            ],
            [
             0.3,
             "#f1b6da"
            ],
            [
             0.4,
             "#fde0ef"
            ],
            [
             0.5,
             "#f7f7f7"
            ],
            [
             0.6,
             "#e6f5d0"
            ],
            [
             0.7,
             "#b8e186"
            ],
            [
             0.8,
             "#7fbc41"
            ],
            [
             0.9,
             "#4d9221"
            ],
            [
             1,
             "#276419"
            ]
           ],
           "sequential": [
            [
             0,
             "#0d0887"
            ],
            [
             0.1111111111111111,
             "#46039f"
            ],
            [
             0.2222222222222222,
             "#7201a8"
            ],
            [
             0.3333333333333333,
             "#9c179e"
            ],
            [
             0.4444444444444444,
             "#bd3786"
            ],
            [
             0.5555555555555556,
             "#d8576b"
            ],
            [
             0.6666666666666666,
             "#ed7953"
            ],
            [
             0.7777777777777778,
             "#fb9f3a"
            ],
            [
             0.8888888888888888,
             "#fdca26"
            ],
            [
             1,
             "#f0f921"
            ]
           ],
           "sequentialminus": [
            [
             0,
             "#0d0887"
            ],
            [
             0.1111111111111111,
             "#46039f"
            ],
            [
             0.2222222222222222,
             "#7201a8"
            ],
            [
             0.3333333333333333,
             "#9c179e"
            ],
            [
             0.4444444444444444,
             "#bd3786"
            ],
            [
             0.5555555555555556,
             "#d8576b"
            ],
            [
             0.6666666666666666,
             "#ed7953"
            ],
            [
             0.7777777777777778,
             "#fb9f3a"
            ],
            [
             0.8888888888888888,
             "#fdca26"
            ],
            [
             1,
             "#f0f921"
            ]
           ]
          },
          "colorway": [
           "#636efa",
           "#EF553B",
           "#00cc96",
           "#ab63fa",
           "#FFA15A",
           "#19d3f3",
           "#FF6692",
           "#B6E880",
           "#FF97FF",
           "#FECB52"
          ],
          "font": {
           "color": "#2a3f5f"
          },
          "geo": {
           "bgcolor": "white",
           "lakecolor": "white",
           "landcolor": "#E5ECF6",
           "showlakes": true,
           "showland": true,
           "subunitcolor": "white"
          },
          "hoverlabel": {
           "align": "left"
          },
          "hovermode": "closest",
          "mapbox": {
           "style": "light"
          },
          "paper_bgcolor": "white",
          "plot_bgcolor": "#E5ECF6",
          "polar": {
           "angularaxis": {
            "gridcolor": "white",
            "linecolor": "white",
            "ticks": ""
           },
           "bgcolor": "#E5ECF6",
           "radialaxis": {
            "gridcolor": "white",
            "linecolor": "white",
            "ticks": ""
           }
          },
          "scene": {
           "xaxis": {
            "backgroundcolor": "#E5ECF6",
            "gridcolor": "white",
            "gridwidth": 2,
            "linecolor": "white",
            "showbackground": true,
            "ticks": "",
            "zerolinecolor": "white"
           },
           "yaxis": {
            "backgroundcolor": "#E5ECF6",
            "gridcolor": "white",
            "gridwidth": 2,
            "linecolor": "white",
            "showbackground": true,
            "ticks": "",
            "zerolinecolor": "white"
           },
           "zaxis": {
            "backgroundcolor": "#E5ECF6",
            "gridcolor": "white",
            "gridwidth": 2,
            "linecolor": "white",
            "showbackground": true,
            "ticks": "",
            "zerolinecolor": "white"
           }
          },
          "shapedefaults": {
           "line": {
            "color": "#2a3f5f"
           }
          },
          "ternary": {
           "aaxis": {
            "gridcolor": "white",
            "linecolor": "white",
            "ticks": ""
           },
           "baxis": {
            "gridcolor": "white",
            "linecolor": "white",
            "ticks": ""
           },
           "bgcolor": "#E5ECF6",
           "caxis": {
            "gridcolor": "white",
            "linecolor": "white",
            "ticks": ""
           }
          },
          "title": {
           "x": 0.05
          },
          "xaxis": {
           "automargin": true,
           "gridcolor": "white",
           "linecolor": "white",
           "ticks": "",
           "title": {
            "standoff": 15
           },
           "zerolinecolor": "white",
           "zerolinewidth": 2
          },
          "yaxis": {
           "automargin": true,
           "gridcolor": "white",
           "linecolor": "white",
           "ticks": "",
           "title": {
            "standoff": 15
           },
           "zerolinecolor": "white",
           "zerolinewidth": 2
          }
         }
        }
       }
      }
     },
     "metadata": {},
     "output_type": "display_data"
    }
   ],
   "source": [
    "import plotly.graph_objects as go\n",
    "\n",
    "x=['11.0', '10.0', '9.0', '8.1_OREO',\"7.0_Nougat\",\"6.1_Marshmallow\",\"5.0_Lollipop\",\"4.2_Jelly_Bean\"]\n",
    "fig = go.Figure(go.Bar(x=x, y=[8.59,10.3,13.73,18.36,1.29,24.28,25.81,26.66,32.15,33.87,33.03,33.76,32.97], name='11'))\n",
    "fig.add_trace(go.Bar(x=x, y=[31.96,30.63,30.65,30.56,29.4,28.82,28.75,28.64,26.23,25.16,24.6,23.72,22.63], name='10'))\n",
    "fig.add_trace(go.Bar(x=x, y=[3.41,3.37,3.22,2.9,2.78,2.68,2.59,2.58,2.48,2.35,2.41,2.26,2.25], name='7'))\n",
    "\n",
    "\n",
    "\n",
    "\n",
    "\n",
    "\n",
    "\n",
    "\n",
    "fig.update_layout(barmode='stack')\n",
    "#fig.update_xaxes(categoryorder='total ascending')\n",
    "fig.show()"
   ]
  },
  {
   "cell_type": "code",
   "execution_count": 4,
   "metadata": {},
   "outputs": [],
   "source": [
    "from plotly.offline import iplot\n",
    "import plotly.graph_objects as go"
   ]
  },
  {
   "cell_type": "code",
   "execution_count": 5,
   "metadata": {},
   "outputs": [
    {
     "data": {
      "image/png": "[encoded data removed]",
      "text/plain": [
       "<Figure size 648x576 with 1 Axes>"
      ]
     },
     "metadata": {
      "needs_background": "light"
     },
     "output_type": "display_data"
    }
   ],
   "source": [
    "# Import Library\n",
    "\n",
    "import pandas as pd \n",
    "import matplotlib.pyplot as plt \n",
    "\n",
    "# Define Data\n",
    "\n",
    "data=[[\"A\",40, 36, 38, 35, 40],\n",
    "      [\"B\",39, 37, 33, 38, 32],\n",
    "      [\"C\",28, 30, 33, 39, 24],\n",
    "      [\"D\",40, 40, 35, 29, 35],\n",
    "      [\"E\", 28, 25, 16, 27, 30]\n",
    "     ]\n",
    "# Plot multiple columns bar chart\n",
    "\n",
    "df=pd.DataFrame(data,columns=[\"Name\",\"English\",\"Hindi\",\"Maths\", \"Science\", \"Computer\"])\n",
    "\n",
    "df.plot(x=\"Name\", y=[\"English\",\"Hindi\",\"Maths\", \"Science\", \"Computer\"], kind=\"bar\",figsize=(9,8))\n",
    "\n",
    "# Show\n",
    "\n",
    "plt.show()"
   ]
  },
  {
   "cell_type": "code",
   "execution_count": 6,
   "metadata": {},
   "outputs": [
    {
     "data": {
      "image/png": "[encoded data removed]",
      "text/plain": [
       "<Figure size 432x288 with 1 Axes>"
      ]
     },
     "metadata": {
      "needs_background": "light"
     },
     "output_type": "display_data"
    }
   ],
   "source": [
    "# Importing the required libraries\n",
    "from matplotlib import pyplot as plt\n",
    "\n",
    "# Preparing the data to plot\n",
    "players = [\"11\",\"10\",\"9.1\",\"8.1\"] \n",
    "goals = [2021,2021,2021,2021]\n",
    "new_d=[12,23,455,67,]\n",
    "\n",
    "\n",
    "# Creating a simple bar chart\n",
    "plt.bar(players, goals,new_d)\n",
    "\n",
    "plt.title('Top 10 football goal scorers of all time')\n",
    "plt.xlabel('Players', fontsize=15)\n",
    "plt.xlabel('new_d', fontsize=15)\n",
    "plt.ylabel('Goals', fontsize=15)\n",
    "plt.show()"
   ]
  },
  {
   "cell_type": "code",
   "execution_count": 7,
   "metadata": {},
   "outputs": [
    {
     "name": "stdout",
     "output_type": "stream",
     "text": [
      "type: <class 'pandas.core.frame.DataFrame'>\n",
      "size: (13, 4)\n",
      "     v_11   v_10    v_9    v_8\n",
      "0    8.59   8.59   8.59   8.59\n",
      "1   10.30  10.30  10.30  10.30\n",
      "2   13.73  13.73  13.73  13.73\n",
      "3   18.36  18.36  18.36  18.36\n",
      "4    1.29   1.29   1.29   1.29\n",
      "5   24.28  24.28  24.28  24.28\n",
      "6   25.81  25.78  25.70  25.65\n",
      "7   26.66  20.66  21.66  22.66\n",
      "8   32.15  35.15  39.15  33.15\n",
      "9   40.87  33.87  28.87  22.87\n",
      "10  33.03  33.03  33.03  33.03\n",
      "11  56.76  46.76  36.76  26.76\n",
      "12  32.97  29.97  26.97  19.97\n"
     ]
    }
   ],
   "source": [
    "\n",
    "import numpy as np\n",
    "import pandas as pd\n",
    "\n",
    "# Preparing the data to plot\n",
    "v_11 = [8.59,10.3,13.73,18.36,1.29,24.28,25.81,26.66,32.15,40.87,33.03,56.76,32.97]\n",
    "v_10 = [8.59,10.3,13.73,18.36,1.29,24.28,25.78,20.66,35.15,33.87,33.03,46.76,29.97]\n",
    "v_9 =  [8.59,10.3,13.73,18.36,1.29,24.28,25.70,21.66,39.15,28.87,33.03,36.76,26.97]\n",
    "v_8 = [8.59,10.3,13.73,18.36,1.29,24.28,25.65,22.66,33.15,22.87,33.03,26.76,19.97]\n",
    "\n",
    "# Creating a DataFrame from a dictionary\n",
    "blogs = pd.DataFrame({'v_11': v_11, 'v_10': v_10, \n",
    "                      'v_9': v_9, 'v_8': v_8})\n",
    "print('type: '+str(type(blogs)), 'size: '+str(np.shape(blogs)), blogs, sep='\\n')"
   ]
  },
  {
   "cell_type": "code",
   "execution_count": 8,
   "metadata": {},
   "outputs": [
    {
     "data": {
      "image/png": "[encoded data removed]",
      "text/plain": [
       "<Figure size 1080x648 with 1 Axes>"
      ]
     },
     "metadata": {
      "needs_background": "light"
     },
     "output_type": "display_data"
    }
   ],
   "source": [
    "# Importing the required libraries\n",
    "from matplotlib import pyplot as plt\n",
    "import numpy as np\n",
    "\n",
    "# Visualizing the data with multiple bar chart\n",
    "plt.figure(figsize=[15, 9])\n",
    "\n",
    "# Set the width of the bars\n",
    "wd = 0.3\n",
    "x_pos = np.arange(1, 2*len(blogs), 2)\n",
    "\n",
    "# Plotting the multiple bar graphs on the same figure\n",
    "plt.bar(x_pos, blogs.v_10, color='r', width=wd, edgecolor='k',\n",
    "        label='v_10')\n",
    "plt.bar(x_pos+wd, blogs.v_9, color='y', width=wd, edgecolor='k', \n",
    "        label='v_9')\n",
    "plt.bar(x_pos+(wd*2), blogs.v_8, color='c', width=wd, \n",
    "        edgecolor='k', label='v_8')\n",
    "\n",
    "# Add xticks\n",
    "plt.xticks(x_pos+wd, blogs.v_11.values, fontsize=15)\n",
    "plt.yticks(fontsize=15)\n",
    "plt.title('The blogs posted by Authors', fontsize=20)\n",
    "plt.xlabel('Authors', fontsize=17)\n",
    "plt.ylabel('Blogs', fontsize=17)\n",
    "\n",
    "plt.legend(loc='upper center', fontsize=15)\n",
    "plt.show()\n"
   ]
  },
  {
   "cell_type": "code",
   "execution_count": 9,
   "metadata": {},
   "outputs": [
    {
     "ename": "AttributeError",
     "evalue": "'Series' object has no attribute 'a_v'",
     "output_type": "error",
     "traceback": [
      "\u001b[1;31m---------------------------------------------------------------------------\u001b[0m",
      "\u001b[1;31mAttributeError\u001b[0m                            Traceback (most recent call last)",
      "\u001b[1;32me:\\as  data\\arz python\\Statictics\\android_version.ipynb Cell 9'\u001b[0m in \u001b[0;36m<cell line: 3>\u001b[1;34m()\u001b[0m\n\u001b[0;32m      <a href='vscode-notebook-cell:/e%3A/as%20%20data/arz%20python/Statictics/android_version.ipynb#ch0000008?line=0'>1</a>\u001b[0m fig\u001b[39m=\u001b[39mplt\u001b[39m.\u001b[39mfigure(figsize\u001b[39m=\u001b[39m(\u001b[39m8\u001b[39m,\u001b[39m4\u001b[39m))\n\u001b[0;32m      <a href='vscode-notebook-cell:/e%3A/as%20%20data/arz%20python/Statictics/android_version.ipynb#ch0000008?line=1'>2</a>\u001b[0m ax1\u001b[39m=\u001b[39mplt\u001b[39m.\u001b[39msubplot(\u001b[39m111\u001b[39m)\n\u001b[1;32m----> <a href='vscode-notebook-cell:/e%3A/as%20%20data/arz%20python/Statictics/android_version.ipynb#ch0000008?line=2'>3</a>\u001b[0m ax1\u001b[39m=\u001b[39mplt(a_v\u001b[39m.\u001b[39;49mDate\u001b[39m.\u001b[39;49ma_v\u001b[39m.\u001b[39mv_11)\n\u001b[0;32m      <a href='vscode-notebook-cell:/e%3A/as%20%20data/arz%20python/Statictics/android_version.ipynb#ch0000008?line=4'>5</a>\u001b[0m plt\u001b[39m.\u001b[39mshow()\n",
      "File \u001b[1;32mc:\\Program Files\\Python310\\lib\\site-packages\\pandas\\core\\generic.py:5575\u001b[0m, in \u001b[0;36mNDFrame.__getattr__\u001b[1;34m(self, name)\u001b[0m\n\u001b[0;32m   5568\u001b[0m \u001b[39mif\u001b[39;00m (\n\u001b[0;32m   5569\u001b[0m     name \u001b[39mnot\u001b[39;00m \u001b[39min\u001b[39;00m \u001b[39mself\u001b[39m\u001b[39m.\u001b[39m_internal_names_set\n\u001b[0;32m   5570\u001b[0m     \u001b[39mand\u001b[39;00m name \u001b[39mnot\u001b[39;00m \u001b[39min\u001b[39;00m \u001b[39mself\u001b[39m\u001b[39m.\u001b[39m_metadata\n\u001b[0;32m   5571\u001b[0m     \u001b[39mand\u001b[39;00m name \u001b[39mnot\u001b[39;00m \u001b[39min\u001b[39;00m \u001b[39mself\u001b[39m\u001b[39m.\u001b[39m_accessors\n\u001b[0;32m   5572\u001b[0m     \u001b[39mand\u001b[39;00m \u001b[39mself\u001b[39m\u001b[39m.\u001b[39m_info_axis\u001b[39m.\u001b[39m_can_hold_identifiers_and_holds_name(name)\n\u001b[0;32m   5573\u001b[0m ):\n\u001b[0;32m   5574\u001b[0m     \u001b[39mreturn\u001b[39;00m \u001b[39mself\u001b[39m[name]\n\u001b[1;32m-> 5575\u001b[0m \u001b[39mreturn\u001b[39;00m \u001b[39mobject\u001b[39;49m\u001b[39m.\u001b[39;49m\u001b[39m__getattribute__\u001b[39;49m(\u001b[39mself\u001b[39;49m, name)\n",
      "\u001b[1;31mAttributeError\u001b[0m: 'Series' object has no attribute 'a_v'"
     ]
    },
    {
     "data": {
      "image/png": "[encoded data removed]",
      "text/plain": [
       "<Figure size 576x288 with 1 Axes>"
      ]
     },
     "metadata": {
      "needs_background": "light"
     },
     "output_type": "display_data"
    }
   ],
   "source": [
    "fig=plt.figure(figsize=(8,4))\n",
    "ax1=plt.subplot(111)\n",
    "ax1=plt(a_v.Date.a_v.v_11)\n",
    "\n",
    "plt.show()"
   ]
  }
 ],
 "metadata": {
  "kernelspec": {
   "display_name": "Python 3.10.4 64-bit",
   "language": "python",
   "name": "python3"
  },
  "language_info": {
   "codemirror_mode": {
    "name": "ipython",
    "version": 3
   },
   "file_extension": ".py",
   "mimetype": "text/x-python",
   "name": "python",
   "nbconvert_exporter": "python",
   "pygments_lexer": "ipython3",
   "version": "3.10.4"
  },
  "orig_nbformat": 4,
  "vscode": {
   "interpreter": {
    "hash": "26de051ba29f2982a8de78e945f0abaf191376122a1563185a90213a26c5da77"
   }
  }
 },
 "nbformat": 4,
 "nbformat_minor": 2
}
